{
 "cells": [
  {
   "cell_type": "markdown",
   "id": "345828bc",
   "metadata": {},
   "source": [
    "# If-Else"
   ]
  },
  {
   "cell_type": "code",
   "execution_count": 2,
   "id": "8a5e7d9b",
   "metadata": {},
   "outputs": [
    {
     "name": "stdout",
     "output_type": "stream",
     "text": [
      "True\n",
      "True\n",
      "False\n"
     ]
    }
   ],
   "source": [
    "A=5\n",
    "statement1=A>0\n",
    "print(statement1)\n",
    "statement2=A>0 and A<100\n",
    "print(statement2)\n",
    "statement3=type(A) is float\n",
    "print(statement3)"
   ]
  },
  {
   "cell_type": "code",
   "execution_count": 4,
   "id": "4a59879f",
   "metadata": {},
   "outputs": [
    {
     "name": "stdout",
     "output_type": "stream",
     "text": [
      "True\n",
      "False\n",
      "True\n",
      "False\n"
     ]
    }
   ],
   "source": [
    "D=[1,2,3,None,5]\n",
    "statement1 =1 in D\n",
    "print(statement1)\n",
    "statement2=4 in D\n",
    "print(statement2)\n",
    "statement3=4 not in D\n",
    "print(statement3)\n",
    "statement4=D[3] is not None\n",
    "print(statement4)"
   ]
  },
  {
   "cell_type": "code",
   "execution_count": 5,
   "id": "8c83bd2a",
   "metadata": {},
   "outputs": [
    {
     "name": "stdout",
     "output_type": "stream",
     "text": [
      "Please enter an integer: 3\n",
      "It is a positive number.\n"
     ]
    }
   ],
   "source": [
    "'''\n",
    "if statement1 :\n",
    "    (do something)\n",
    "elif statement2 :\n",
    "    (do something)\n",
    "else statement3 :\n",
    "    (do something)\n",
    "'''\n",
    "n=int(input(f'Please enter an integer: '))\n",
    "\n",
    "if n>0:\n",
    "    print(f'It is a positive number.')\n",
    "elif n<0:\n",
    "    print(f'It is a negative number.')\n",
    "else:\n",
    "    print(f'It is zero')"
   ]
  },
  {
   "cell_type": "code",
   "execution_count": null,
   "id": "4075b839",
   "metadata": {},
   "outputs": [],
   "source": [
    "h=float(input(f'Please enter your height(cm): '))\n",
    "w=float(input(f'Please enter your weight(kg): '))\n",
    "BMI=w/((h/100)**2)\n",
    "\n",
    "if BMI>35\n",
    "    print(f'Your BMI is {BMI:.1f}, you are extremely fat!')\n",
    "elif BMI>30 and BMI <=35:\n",
    "    print(f'Your BMI is {BMI:.1f}, you are fat!')\n",
    "elif BMI>27 and BMI <=30:\n",
    "    print(f'Your BMI is {BMI:.1f}, you are slightly fat!')\n",
    "elif BMI>24 and BMI <=27:\n",
    "    print(f'Your BMI is {BMI:.1f}, you are overweight!')\n",
    "elif BMI>18.5 and BMI <=24:\n",
    "    print(f'Your BMI is {BMI:.1f}, you have a normal weight.')\n",
    "else:\n",
    "    print(f'Your BMI is {BMI:.1f}, you are too light!')"
   ]
  },
  {
   "cell_type": "code",
   "execution_count": null,
   "id": "f33854b4",
   "metadata": {},
   "outputs": [],
   "source": []
  }
 ],
 "metadata": {
  "kernelspec": {
   "display_name": "Python 3",
   "language": "python",
   "name": "python3"
  },
  "language_info": {
   "codemirror_mode": {
    "name": "ipython",
    "version": 3
   },
   "file_extension": ".py",
   "mimetype": "text/x-python",
   "name": "python",
   "nbconvert_exporter": "python",
   "pygments_lexer": "ipython3",
   "version": "3.8.8"
  }
 },
 "nbformat": 4,
 "nbformat_minor": 5
}
