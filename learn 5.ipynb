{
 "cells": [
  {
   "cell_type": "markdown",
   "id": "6d4dc680",
   "metadata": {},
   "source": [
    "# LIST"
   ]
  },
  {
   "cell_type": "code",
   "execution_count": 1,
   "id": "89beacb0",
   "metadata": {},
   "outputs": [
    {
     "name": "stdout",
     "output_type": "stream",
     "text": [
      "[]\n",
      "[]\n"
     ]
    }
   ],
   "source": [
    "emptyList1=[]\n",
    "#轉換類別\n",
    "emptyList2=list()\n",
    "\n",
    "print(emptyList1)\n",
    "print(emptyList2)"
   ]
  },
  {
   "cell_type": "code",
   "execution_count": 3,
   "id": "56c4147a",
   "metadata": {},
   "outputs": [
    {
     "name": "stdout",
     "output_type": "stream",
     "text": [
      "[1, 2.3, (4+5j), 'five']\n"
     ]
    }
   ],
   "source": [
    "#list中可放入不同型別的變數\n",
    "complexList=[1,2.3,4+5j,'five']\n",
    "\n",
    "print(complexList)"
   ]
  },
  {
   "cell_type": "code",
   "execution_count": 4,
   "id": "ff9883f9",
   "metadata": {},
   "outputs": [
    {
     "name": "stdout",
     "output_type": "stream",
     "text": [
      "[0, [11, 12], 2, [30, 31, 32], 4]\n"
     ]
    }
   ],
   "source": [
    "#可放入另一整個list\n",
    "nestedList=[0,[11,12],2,[30,31,32],4]\n",
    "\n",
    "print(nestedList)"
   ]
  },
  {
   "cell_type": "code",
   "execution_count": 5,
   "id": "5fd412d6",
   "metadata": {},
   "outputs": [
    {
     "name": "stdout",
     "output_type": "stream",
     "text": [
      "[3, 4, 5, 6]\n",
      "[3, 4, 5, 6, 7, [80, 81], 9]\n",
      "[7, [80, 81], 9, 3, 4, 5, 6]\n",
      "[3, 4, 5, 6, 3, 4, 5, 6]\n"
     ]
    }
   ],
   "source": [
    "#一筆資料\n",
    "L=[3,4,5]\n",
    "L.append(6)\n",
    "print(L)\n",
    "#一串資料\n",
    "L1=L+[7,[80,81],9]\n",
    "L2=[7,[80,81],9]+L\n",
    "L3=L*2\n",
    "print(L1)\n",
    "print(L2)\n",
    "print(L3)"
   ]
  },
  {
   "cell_type": "code",
   "execution_count": 6,
   "id": "57092452",
   "metadata": {},
   "outputs": [
    {
     "name": "stdout",
     "output_type": "stream",
     "text": [
      "[10, 9, 8, 7, 6, 5, 4, 3, 2, 1]\n",
      "[10, 9, 8, 6, 5, 4, 3, 2, 1]\n",
      "[]\n"
     ]
    }
   ],
   "source": [
    "L=[10,10,9,8,7,6,5,4,3,2,1]\n",
    "#remove()移除的目標物只會移除最前面的數\n",
    "L.remove(10)\n",
    "print(L)\n",
    "\n",
    "#pop()移除list中某個index的資料\n",
    "L.pop(3)\n",
    "print(L)\n",
    "\n",
    "#clear()移除list中所有資料\n",
    "L.clear()\n",
    "print(L)"
   ]
  },
  {
   "cell_type": "code",
   "execution_count": 7,
   "id": "964e3464",
   "metadata": {},
   "outputs": [
    {
     "name": "stdout",
     "output_type": "stream",
     "text": [
      "12\n",
      "4\n",
      "2\n"
     ]
    }
   ],
   "source": [
    "L=[10,9,8,7,6,5,5,4,3,2,1,0]\n",
    "#查詢長度\n",
    "print(len(L))\n",
    "#查詢位置\n",
    "print(L.index(6))\n",
    "#查詢出現次數\n",
    "print(L.count(5))"
   ]
  },
  {
   "cell_type": "code",
   "execution_count": 8,
   "id": "38d1ac32",
   "metadata": {},
   "outputs": [
    {
     "name": "stdout",
     "output_type": "stream",
     "text": [
      "3\n",
      "[3, 4, 5, 6, 7]\n",
      "[3, 5, 7]\n",
      "[0, 1, 2, 3, 4, 5, 6, 7]\n",
      "[2, 3, 4, 5, 6, 7, 8, 9, 10]\n",
      "[10, 8, 6, 4]\n"
     ]
    }
   ],
   "source": [
    "L=[0,1,2,3,4,5,6,7,8,9,10]\n",
    "#左到右,開始是0\n",
    "#右到左,開始是-1\n",
    "print(L[3])\n",
    "print(L[3:8])\n",
    "print(L[3:8:2])\n",
    "print(L[:8])\n",
    "print(L[2:])\n",
    "print(L[-1:-8:-2])"
   ]
  },
  {
   "cell_type": "code",
   "execution_count": 10,
   "id": "a9af0541",
   "metadata": {},
   "outputs": [
    {
     "name": "stdout",
     "output_type": "stream",
     "text": [
      "2\n"
     ]
    }
   ],
   "source": [
    "#多重list\n",
    "nestedList=[[11,12],[1,2,3],[2]]\n",
    "print(nestedList[1][1])"
   ]
  },
  {
   "cell_type": "markdown",
   "id": "2ccff9d5",
   "metadata": {},
   "source": [
    "## 插入"
   ]
  },
  {
   "cell_type": "code",
   "execution_count": 11,
   "id": "3aa198cc",
   "metadata": {},
   "outputs": [
    {
     "name": "stdout",
     "output_type": "stream",
     "text": [
      "[0, 1, 2, 5, 3, 4]\n",
      "[0, 1, 2, 5, 6, 7, 8, 9, 3, 4]\n"
     ]
    }
   ],
   "source": [
    "L=[0,1,2,3,4]\n",
    "#插入一個數值\n",
    "#在3的位置插入5\n",
    "L.insert(3,5)\n",
    "print(L)\n",
    "#插入list\n",
    "L=L[:4]+[6,7,8,9]+L[4:]\n",
    "print(L)"
   ]
  },
  {
   "cell_type": "markdown",
   "id": "b54205ee",
   "metadata": {},
   "source": [
    "## 切割"
   ]
  },
  {
   "cell_type": "code",
   "execution_count": 13,
   "id": "ba7330c6",
   "metadata": {},
   "outputs": [
    {
     "name": "stdout",
     "output_type": "stream",
     "text": [
      "1 23 4 46 58 6\n",
      "['1', '23', '4', '46', '58', '6']\n",
      "['AAA', 'BBB', 'CCC', 'DDD']\n"
     ]
    }
   ],
   "source": [
    "#遇到空格就切\n",
    "splitList=input().split()\n",
    "print(splitList)\n",
    "Str='AAA BBB CCC DDD'\n",
    "splitString=Str.split()\n",
    "print(splitString)"
   ]
  },
  {
   "cell_type": "code",
   "execution_count": 14,
   "id": "29d5a997",
   "metadata": {},
   "outputs": [
    {
     "name": "stdout",
     "output_type": "stream",
     "text": [
      "['192', '168', '0', '1']\n"
     ]
    }
   ],
   "source": [
    "ip='192.168.0.1'\n",
    "splitStr=ip.split(\".\")\n",
    "print(splitStr)"
   ]
  },
  {
   "cell_type": "markdown",
   "id": "91694ee7",
   "metadata": {},
   "source": [
    "## 黏著"
   ]
  },
  {
   "cell_type": "code",
   "execution_count": 16,
   "id": "ef1bb8d5",
   "metadata": {},
   "outputs": [
    {
     "name": "stdout",
     "output_type": "stream",
     "text": [
      "a,b,c,d\n"
     ]
    }
   ],
   "source": [
    "#以符號(字串)連接\n",
    "L=['a','b','c','d']\n",
    "print(','.join(L))"
   ]
  },
  {
   "cell_type": "markdown",
   "id": "d97002c9",
   "metadata": {},
   "source": [
    "## 排序"
   ]
  },
  {
   "cell_type": "code",
   "execution_count": 21,
   "id": "5e90651e",
   "metadata": {},
   "outputs": [
    {
     "name": "stdout",
     "output_type": "stream",
     "text": [
      "[1, 2, 4, 4, 4, 5, 6, 8, 8, 9, 9]\n",
      "[9, 9, 8, 8, 6, 5, 4, 4, 4, 2, 1]\n"
     ]
    }
   ],
   "source": [
    "L=[4,5,4,9,8,4,8,9,6,1,2]\n",
    "#預設升序\n",
    "L.sort()\n",
    "print(L)\n",
    "#降序\n",
    "L.sort(reverse=True)\n",
    "print(L)"
   ]
  },
  {
   "cell_type": "markdown",
   "id": "96a056f0",
   "metadata": {},
   "source": [
    "----------------------------------------------------------"
   ]
  },
  {
   "cell_type": "code",
   "execution_count": 22,
   "id": "60810773",
   "metadata": {},
   "outputs": [
    {
     "name": "stdout",
     "output_type": "stream",
     "text": [
      "Ben ['001'] 1\n",
      "Louis 005 2\n"
     ]
    }
   ],
   "source": [
    "L1=['Ben','001',1]\n",
    "L2=['Louis','005',2]\n",
    "name,*ID,score=L1\n",
    "print(name,ID,score)\n",
    "name,ID,score=L2\n",
    "print(name,ID,score)"
   ]
  }
 ],
 "metadata": {
  "kernelspec": {
   "display_name": "Python 3",
   "language": "python",
   "name": "python3"
  },
  "language_info": {
   "codemirror_mode": {
    "name": "ipython",
    "version": 3
   },
   "file_extension": ".py",
   "mimetype": "text/x-python",
   "name": "python",
   "nbconvert_exporter": "python",
   "pygments_lexer": "ipython3",
   "version": "3.8.8"
  }
 },
 "nbformat": 4,
 "nbformat_minor": 5
}
