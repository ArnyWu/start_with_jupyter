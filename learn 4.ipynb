{
 "cells": [
  {
   "cell_type": "markdown",
   "id": "8e6f6a75",
   "metadata": {},
   "source": [
    "# 運算元"
   ]
  },
  {
   "cell_type": "raw",
   "id": "9c444590",
   "metadata": {},
   "source": [
    "+  addition\n",
    "-  subtraction\n",
    "/  division\n",
    "%  mod\n",
    "*  multiplication\n",
    "// floor division\n",
    "** to the power of(指數)"
   ]
  },
  {
   "cell_type": "code",
   "execution_count": 2,
   "id": "83b2db6e",
   "metadata": {},
   "outputs": [
    {
     "name": "stdout",
     "output_type": "stream",
     "text": [
      "10 / 3 = 3.3333333333333335\n",
      "10 // 3 = 3\n",
      "10 % 3 = 1\n"
     ]
    }
   ],
   "source": [
    "a,b=10,3\n",
    "print(f'{a} / {b} = {a/b}') #自動轉成浮點數\n",
    "#取商\n",
    "print(f'{a} // {b} = {a//b}')\n",
    "#取餘數\n",
    "print(f'{a} % {b} = {a%b}')"
   ]
  },
  {
   "cell_type": "code",
   "execution_count": 7,
   "id": "69fd3593",
   "metadata": {},
   "outputs": [
    {
     "name": "stdout",
     "output_type": "stream",
     "text": [
      "HELLO WORLD\n",
      "HELLOHELLOHELLOHELLOHELLO WORLDWORLDWORLDWORLDWORLD\n",
      "HELLO HELLO HELLO HELLO HELLO WORLD WORLD WORLD \n"
     ]
    }
   ],
   "source": [
    "s1=\"HELLO\"\n",
    "s2=\"WORLD\"\n",
    "S=s1+' '+s2\n",
    "print(S)\n",
    "S=s1*5+' '+s2*5\n",
    "print(S)\n",
    "S=(s1+' ')*5+(s2+' ')*3\n",
    "print(S)"
   ]
  },
  {
   "cell_type": "raw",
   "id": "c6ba5f12",
   "metadata": {},
   "source": [
    ">\n",
    "<\n",
    ">=\n",
    "<=\n",
    "==\n",
    "!=\n",
    "和c++一樣"
   ]
  },
  {
   "cell_type": "code",
   "execution_count": 11,
   "id": "99cc8e33",
   "metadata": {},
   "outputs": [
    {
     "name": "stdout",
     "output_type": "stream",
     "text": [
      "HELLO > HE ? True\n",
      "HELLO < HE ? False\n",
      "HELLO == HE ? False\n",
      "HELLO >= HE ? True\n",
      "HELLO <= HE ? False\n",
      "HELLO != HE ? True\n"
     ]
    }
   ],
   "source": [
    "#數字而言，特別注意的是複數不能比大小\n",
    "#字串而言，是依照字典出現先後順序比大小(和C++一樣)\n",
    "a=\"HELLO\"\n",
    "b=\"HE\"\n",
    "print(f'{a} > {b} ? {a>b}')\n",
    "print(f'{a} < {b} ? {a<b}')\n",
    "print(f'{a} == {b} ? {a==b}')\n",
    "print(f'{a} >= {b} ? {a>=b}')\n",
    "print(f'{a} <= {b} ? {a<=b}')\n",
    "print(f'{a} != {b} ? {a!=b}')"
   ]
  }
 ],
 "metadata": {
  "kernelspec": {
   "display_name": "Python 3",
   "language": "python",
   "name": "python3"
  },
  "language_info": {
   "codemirror_mode": {
    "name": "ipython",
    "version": 3
   },
   "file_extension": ".py",
   "mimetype": "text/x-python",
   "name": "python",
   "nbconvert_exporter": "python",
   "pygments_lexer": "ipython3",
   "version": "3.8.8"
  }
 },
 "nbformat": 4,
 "nbformat_minor": 5
}
