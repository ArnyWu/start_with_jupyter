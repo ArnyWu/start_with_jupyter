{
 "cells": [
  {
   "cell_type": "markdown",
   "id": "5612c4bc",
   "metadata": {},
   "source": [
    "# TUPLE"
   ]
  },
  {
   "cell_type": "code",
   "execution_count": 1,
   "id": "20a41809",
   "metadata": {},
   "outputs": [
    {
     "name": "stdout",
     "output_type": "stream",
     "text": [
      "()\n",
      "()\n"
     ]
    }
   ],
   "source": [
    "# 宣告空的 tuple\n",
    "T1=()\n",
    "T2=tuple()\n",
    "print(T1)\n",
    "print(T2)"
   ]
  },
  {
   "cell_type": "code",
   "execution_count": 2,
   "id": "e3dde864",
   "metadata": {},
   "outputs": [
    {
     "name": "stdout",
     "output_type": "stream",
     "text": [
      "[1, 2, 3]\n",
      "(1, 2, 3)\n",
      "[1, 2, 3]\n",
      "(1, 2, 3)\n"
     ]
    }
   ],
   "source": [
    "# tuple 和 list 是可以互相轉換的\n",
    "T=(1,2,3)\n",
    "L=list(T)\n",
    "print(L)\n",
    "print(T)\n",
    "L=[1,2,3]\n",
    "T=tuple(L)\n",
    "print(L)\n",
    "print(T)"
   ]
  },
  {
   "cell_type": "markdown",
   "id": "ae4d6358",
   "metadata": {},
   "source": [
    "# SET "
   ]
  },
  {
   "cell_type": "markdown",
   "id": "3b4c6a0e",
   "metadata": {},
   "source": [
    "無順序性"
   ]
  },
  {
   "cell_type": "code",
   "execution_count": 3,
   "id": "36790565",
   "metadata": {},
   "outputs": [
    {
     "name": "stdout",
     "output_type": "stream",
     "text": [
      "set()\n"
     ]
    }
   ],
   "source": [
    "S=set()\n",
    "print(S)"
   ]
  },
  {
   "cell_type": "code",
   "execution_count": 4,
   "id": "ccc866d0",
   "metadata": {},
   "outputs": [
    {
     "name": "stdout",
     "output_type": "stream",
     "text": [
      "{1, 2, 3, 4}\n",
      "{3, 4, 5, 6}\n",
      "{3, 4}\n",
      "{1, 2, 3, 4, 5, 6}\n",
      "{1, 2}\n",
      "{5, 6}\n",
      "{1, 2, 5, 6}\n",
      "False\n",
      "False\n"
     ]
    }
   ],
   "source": [
    "S1={1,2,3,4}\n",
    "S2={3,4,5,6,6}\n",
    "print(S1)\n",
    "print(S2)\n",
    "#交集使用 &\n",
    "print(S1&S2)\n",
    "#聯集使用 |\n",
    "print(S1|S2)\n",
    "#差集使用 -\n",
    "print(S1-S2)\n",
    "print(S2-S1)\n",
    "#互斥集 ^\n",
    "print(S1^S2)\n",
    "#使用 >,<,=,>=,<=,==\n",
    "print(S1<=S2)\n",
    "print(S1>=S2)"
   ]
  },
  {
   "cell_type": "code",
   "execution_count": 5,
   "id": "5b8270f3",
   "metadata": {},
   "outputs": [
    {
     "name": "stdout",
     "output_type": "stream",
     "text": [
      "{1, 2, 3, 4}\n",
      "{1, 2, 3, 5}\n"
     ]
    }
   ],
   "source": [
    "S=set([3,1,2,4])\n",
    "print(S)\n",
    "S=set((1,5,2,3))\n",
    "print(S)"
   ]
  },
  {
   "cell_type": "code",
   "execution_count": 6,
   "id": "187e9953",
   "metadata": {},
   "outputs": [
    {
     "name": "stdout",
     "output_type": "stream",
     "text": [
      "{1, 2, 3, 4, 7}\n",
      "{1, 2, 3, 4, 5, 6, 7}\n"
     ]
    }
   ],
   "source": [
    "S={1,2,3,4}\n",
    "#增加\n",
    "S.add(7)\n",
    "print(S)\n",
    "#合併\n",
    "S.update((4,5,6))\n",
    "print(S)"
   ]
  }
 ],
 "metadata": {
  "kernelspec": {
   "display_name": "Python 3",
   "language": "python",
   "name": "python3"
  },
  "language_info": {
   "codemirror_mode": {
    "name": "ipython",
    "version": 3
   },
   "file_extension": ".py",
   "mimetype": "text/x-python",
   "name": "python",
   "nbconvert_exporter": "python",
   "pygments_lexer": "ipython3",
   "version": "3.8.8"
  }
 },
 "nbformat": 4,
 "nbformat_minor": 5
}
