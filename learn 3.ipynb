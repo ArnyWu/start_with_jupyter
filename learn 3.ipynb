{
 "cells": [
  {
   "cell_type": "markdown",
   "id": "e8881e58",
   "metadata": {},
   "source": [
    "# Format code"
   ]
  },
  {
   "cell_type": "raw",
   "id": "c0ac0024",
   "metadata": {},
   "source": [
    "%d 整數 \n",
    "%o 整數八進位\n",
    "%x 整數16進位\n",
    "%f 浮點數 %e 科學記號\n",
    "%s 字串"
   ]
  },
  {
   "cell_type": "code",
   "execution_count": 7,
   "id": "72a382ea",
   "metadata": {},
   "outputs": [
    {
     "name": "stdout",
     "output_type": "stream",
     "text": [
      "123 123.000000 ABC\n",
      "123 173 7b\n",
      "123.000000 1.230000e+02\n",
      "ABC\n",
      "123123.0ABC\n"
     ]
    }
   ],
   "source": [
    "I,F,S=123,123.0,'ABC'\n",
    "print(\"%d %f %s\" % (I,F,S))\n",
    "\n",
    "print(\"%d %o %x\" % (I,I,I))\n",
    "\n",
    "print(\"%f %e\" % (F,F))\n",
    "\n",
    "print(\"%s\" % S)\n",
    "\n",
    "print(f'{I}{F}{S}')"
   ]
  },
  {
   "cell_type": "markdown",
   "id": "5f793544",
   "metadata": {},
   "source": [
    "## 整數"
   ]
  },
  {
   "cell_type": "code",
   "execution_count": 8,
   "id": "73ee2e47",
   "metadata": {},
   "outputs": [
    {
     "name": "stdout",
     "output_type": "stream",
     "text": [
      "I=123\n",
      "I=   123\n",
      "I=000123\n"
     ]
    }
   ],
   "source": [
    "#預設正常輸出\n",
    "print(f'I={I}')\n",
    "#讓變數佔六格 ---123\n",
    "print(f'I={I:6d}')\n",
    "#讓空格補零\n",
    "print(f'I={I:06d}')"
   ]
  },
  {
   "cell_type": "markdown",
   "id": "cccf7f1e",
   "metadata": {},
   "source": [
    "## 浮點數"
   ]
  },
  {
   "cell_type": "code",
   "execution_count": 13,
   "id": "1d286e04",
   "metadata": {},
   "outputs": [
    {
     "name": "stdout",
     "output_type": "stream",
     "text": [
      "3.14159265358\n",
      "3.1416\n",
      "      3.1416\n",
      "0000003.1416\n"
     ]
    }
   ],
   "source": [
    "pi=3.14159265358\n",
    "#預設正常輸出\n",
    "print(f'{pi}')\n",
    "#指定小數點後位數(會4捨5入)\n",
    "print(f'{pi:.4f}')\n",
    "#指定位數，共12格\n",
    "print(f'{pi:12.4f}')\n",
    "#讓空格補0\n",
    "print(f'{pi:012.4f}')"
   ]
  },
  {
   "cell_type": "markdown",
   "id": "81ccca94",
   "metadata": {},
   "source": [
    "## 字串"
   ]
  },
  {
   "cell_type": "code",
   "execution_count": 11,
   "id": "1f3b7666",
   "metadata": {},
   "outputs": [
    {
     "name": "stdout",
     "output_type": "stream",
     "text": [
      "abcde          \n",
      "     abcde     \n",
      "          abcde\n",
      "abcde__________\n",
      "*****abcde*****\n",
      "&&&&&&&&&&abcde\n"
     ]
    }
   ],
   "source": [
    "S='abcde'\n",
    "'''看箭頭指哪'''\n",
    "#置左\n",
    "print(f'{S:<15s}')\n",
    "#置中\n",
    "print(f'{S:^15s}')\n",
    "#置右\n",
    "print(f'{S:>15s}')\n",
    "'''有符號'''\n",
    "#置左\n",
    "print(f'{S:_<15s}')\n",
    "#置中\n",
    "print(f'{S:*^15s}')\n",
    "#置右\n",
    "print(f'{S:&>15s}')"
   ]
  }
 ],
 "metadata": {
  "kernelspec": {
   "display_name": "Python 3",
   "language": "python",
   "name": "python3"
  },
  "language_info": {
   "codemirror_mode": {
    "name": "ipython",
    "version": 3
   },
   "file_extension": ".py",
   "mimetype": "text/x-python",
   "name": "python",
   "nbconvert_exporter": "python",
   "pygments_lexer": "ipython3",
   "version": "3.8.8"
  }
 },
 "nbformat": 4,
 "nbformat_minor": 5
}
