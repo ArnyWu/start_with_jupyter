{
 "cells": [
  {
   "cell_type": "markdown",
   "id": "0dedf8a3",
   "metadata": {},
   "source": [
    "# DICITIONARY"
   ]
  },
  {
   "cell_type": "raw",
   "id": "3e848400",
   "metadata": {},
   "source": [
    "像是C++的map\n",
    "宣告一個大括號{},型別為字典"
   ]
  },
  {
   "cell_type": "code",
   "execution_count": 1,
   "id": "c0f3a89e",
   "metadata": {},
   "outputs": [
    {
     "name": "stdout",
     "output_type": "stream",
     "text": [
      "<class 'dict'>\n",
      "<class 'dict'>\n"
     ]
    }
   ],
   "source": [
    "D1 ={}\n",
    "D2= dict()\n",
    "print(type(D1))\n",
    "print(type(D2))"
   ]
  },
  {
   "cell_type": "code",
   "execution_count": 2,
   "id": "fd7f6e8c",
   "metadata": {},
   "outputs": [
    {
     "name": "stdout",
     "output_type": "stream",
     "text": [
      "<class 'dict'>\n",
      "<class 'set'>\n"
     ]
    }
   ],
   "source": [
    "#(key,value)\n",
    "D = {'a':1,'b':2,'c':3,4:'d'}\n",
    "S = {1,2,3}\n",
    "print(type(D))\n",
    "print(type(S))"
   ]
  },
  {
   "cell_type": "code",
   "execution_count": 6,
   "id": "c397fd2f",
   "metadata": {},
   "outputs": [
    {
     "name": "stdout",
     "output_type": "stream",
     "text": [
      "{1: 'a', 2: 'b', 3: 'c'}\n",
      "{'a': 1, 'b': 2, 'c': 3}\n"
     ]
    }
   ],
   "source": [
    "#list\n",
    "L=[[1,'a'],[2,'b'],[3,'c']]\n",
    "D= dict(L)\n",
    "print(D)\n",
    "#tuple\n",
    "S=(('a',1),('b',2),('c',3))\n",
    "D= dict(S)\n",
    "print(D)"
   ]
  },
  {
   "cell_type": "code",
   "execution_count": 7,
   "id": "8e4a1dc0",
   "metadata": {},
   "outputs": [
    {
     "name": "stdout",
     "output_type": "stream",
     "text": [
      "{'name': 'Sally', 'age': 21, 'gender': 'Female', 'height': 168, 'weight': 50, 'exercise': 0}\n"
     ]
    }
   ],
   "source": [
    "attribute=['name','age','gender','height','weight','exercise']\n",
    "value=['Sally',21,'Female',168,50,0]\n",
    "infoDict=dict(zip(attribute,value))\n",
    "print(infoDict)"
   ]
  },
  {
   "cell_type": "code",
   "execution_count": 9,
   "id": "b45ec284",
   "metadata": {},
   "outputs": [
    {
     "name": "stdout",
     "output_type": "stream",
     "text": [
      "{'a': 1, 'b': 2, 'c': 3}\n",
      "4\n",
      "{'a': 1, 'b': 2, 'c': 3, 'd': 4}\n",
      "{'a': 1, 'b': 2, 'c': 3, 'd': 4, 'e': 5, 'f': 6, 'g': 7}\n"
     ]
    }
   ],
   "source": [
    "D={'a':1,'b':2,'c':3}\n",
    "print(D)\n",
    "D['d']=4\n",
    "print(D['d'])\n",
    "print(D)\n",
    "D.update({'e':5,'f':6,'g':7})\n",
    "print(D)"
   ]
  },
  {
   "cell_type": "code",
   "execution_count": 10,
   "id": "a211dab9",
   "metadata": {},
   "outputs": [
    {
     "name": "stdout",
     "output_type": "stream",
     "text": [
      "{'b': 2, 'c': 3, 'd': 4, 'e': 5, 'f': 6, 'g': 7}\n",
      "2\n",
      "{}\n"
     ]
    }
   ],
   "source": [
    "D={'a': 1, 'b': 2, 'c': 3, 'd': 4, 'e': 5, 'f': 6, 'g': 7}\n",
    "del(D['a'])\n",
    "print(D)\n",
    "print(D.pop('b'))\n",
    "D.clear()\n",
    "print(D)"
   ]
  },
  {
   "cell_type": "code",
   "execution_count": 11,
   "id": "047db0b7",
   "metadata": {},
   "outputs": [
    {
     "name": "stdout",
     "output_type": "stream",
     "text": [
      "['a', 'b', 'c', 'd', 'e', 'f', 'g']\n",
      "[1, 2, 3, 4, 5, 6, 7]\n",
      "[('a', 1), ('b', 2), ('c', 3), ('d', 4), ('e', 5), ('f', 6), ('g', 7)]\n"
     ]
    }
   ],
   "source": [
    "D={'a': 1, 'b': 2, 'c': 3, 'd': 4, 'e': 5, 'f': 6, 'g': 7}\n",
    "#取得所有key並轉換成list\n",
    "L_keys=list(D.keys())\n",
    "print(L_keys)\n",
    "#取得所有value並轉換成list\n",
    "L_values=list(D.values())\n",
    "print(L_values)\n",
    "#取得所有(key,value)touple並轉換成list\n",
    "L_items=list(D.items())\n",
    "print(L_items)"
   ]
  },
  {
   "cell_type": "code",
   "execution_count": 12,
   "id": "e80eb066",
   "metadata": {},
   "outputs": [
    {
     "name": "stdout",
     "output_type": "stream",
     "text": [
      "True\n",
      "False\n",
      "True\n",
      "False\n"
     ]
    }
   ],
   "source": [
    "D={'a': 1, 'b': 2, 'c': 3, 'd': 4, 'e': 5, 'f': 6, 'g': 7}\n",
    "print('a' in D)\n",
    "print('Z'in D)\n",
    "print(1 in D.values())\n",
    "print(9 in D.values())"
   ]
  },
  {
   "cell_type": "code",
   "execution_count": 18,
   "id": "f56f5e95",
   "metadata": {},
   "outputs": [
    {
     "name": "stdout",
     "output_type": "stream",
     "text": [
      "{}\n",
      "{'a': 1, 'b': 2, 'c': 3}\n"
     ]
    }
   ],
   "source": [
    "a={'a':1,'b':2,'c':3}\n",
    "b=a\n",
    "c=a.copy()\n",
    "a.clear()\n",
    "print(b)#a和b是同一個\n",
    "print(c)"
   ]
  }
 ],
 "metadata": {
  "kernelspec": {
   "display_name": "Python 3",
   "language": "python",
   "name": "python3"
  },
  "language_info": {
   "codemirror_mode": {
    "name": "ipython",
    "version": 3
   },
   "file_extension": ".py",
   "mimetype": "text/x-python",
   "name": "python",
   "nbconvert_exporter": "python",
   "pygments_lexer": "ipython3",
   "version": "3.8.8"
  }
 },
 "nbformat": 4,
 "nbformat_minor": 5
}
