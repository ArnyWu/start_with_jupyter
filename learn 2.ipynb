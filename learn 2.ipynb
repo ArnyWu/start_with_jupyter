{
 "cells": [
  {
   "cell_type": "markdown",
   "id": "897ed0ef",
   "metadata": {},
   "source": [
    "# DATA TYPE"
   ]
  },
  {
   "cell_type": "markdown",
   "id": "7a2318f3",
   "metadata": {},
   "source": [
    "### 可以用type()來了解變數的型別"
   ]
  },
  {
   "cell_type": "markdown",
   "id": "de6c6a3d",
   "metadata": {},
   "source": [
    "1. 布林值"
   ]
  },
  {
   "cell_type": "code",
   "execution_count": 1,
   "id": "c992e246",
   "metadata": {},
   "outputs": [
    {
     "name": "stdout",
     "output_type": "stream",
     "text": [
      "T:<class 'bool'>data type, value=True\n",
      "F:<class 'bool'>data type, value=False\n"
     ]
    }
   ],
   "source": [
    "T=True\n",
    "F=False\n",
    "#python會自動根據資料型態定義變數型別\n",
    "\n",
    "print(f'T:{type(T)}data type, value={T}')\n",
    "print(f'F:{type(F)}data type, value={F}')"
   ]
  },
  {
   "cell_type": "markdown",
   "id": "f8c47b90",
   "metadata": {},
   "source": [
    "2. 整數"
   ]
  },
  {
   "cell_type": "code",
   "execution_count": 2,
   "id": "885abacb",
   "metadata": {},
   "outputs": [
    {
     "name": "stdout",
     "output_type": "stream",
     "text": [
      "I:<class 'int'> data type, value=100\n"
     ]
    }
   ],
   "source": [
    "I1=100\n",
    "\n",
    "print(f'I:{type(I1)}data type, value={I1}')"
   ]
  },
  {
   "cell_type": "markdown",
   "id": "021650e2",
   "metadata": {},
   "source": [
    "3. 浮點數"
   ]
  },
  {
   "cell_type": "code",
   "execution_count": 3,
   "id": "fc077de5",
   "metadata": {},
   "outputs": [
    {
     "name": "stdout",
     "output_type": "stream",
     "text": [
      "F1:<class 'float'>data type, value=123.0\n",
      "F1:<class 'float'>data type, value=123.0\n",
      "F1:<class 'float'>data type, value=123.0\n",
      "F1:<class 'float'>data type, value=123.0\n"
     ]
    }
   ],
   "source": [
    "F1=123.0\n",
    "F2=123.\n",
    "#F1可省略為F2\n",
    "F3=1.23e2\n",
    "#(科學記號)e代表10，2代表10的2次方\n",
    "F4=float(123)\n",
    "\n",
    "print(f'F1:{type(F1)}data type, value={F1}')\n",
    "print(f'F1:{type(F2)}data type, value={F2}')\n",
    "print(f'F1:{type(F3)}data type, value={F3}')\n",
    "print(f'F1:{type(F4)}data type, value={F4}')"
   ]
  },
  {
   "cell_type": "markdown",
   "id": "ebf9db28",
   "metadata": {},
   "source": [
    "4. 複數"
   ]
  },
  {
   "cell_type": "code",
   "execution_count": 6,
   "id": "bdd91395",
   "metadata": {},
   "outputs": [
    {
     "name": "stdout",
     "output_type": "stream",
     "text": [
      "C:<class 'complex'>data type, value=(3+4j)\n",
      "C:<class 'complex'>data type, value=3.0+4.0j\n"
     ]
    }
   ],
   "source": [
    "#虛部用j表示\n",
    "#取實部用.real,取虛部用.imag\n",
    "C=3.0+4.0j\n",
    "\n",
    "print(f'C:{type(C)}data type, value={C}')\n",
    "print(f'C:{type(C)}data type, value={C.real}+{C.imag}j')"
   ]
  },
  {
   "cell_type": "markdown",
   "id": "6d8f303b",
   "metadata": {},
   "source": [
    "5. 字串變數"
   ]
  },
  {
   "cell_type": "code",
   "execution_count": 7,
   "id": "8caddc62",
   "metadata": {},
   "outputs": [
    {
     "name": "stdout",
     "output_type": "stream",
     "text": [
      "S:<class 'str'>data type, value=012345\n"
     ]
    }
   ],
   "source": [
    "#宣告字串:用雙引號或單引號包著\n",
    "S='012345'\n",
    "print(f'S:{type(S)}data type, value={S}')"
   ]
  },
  {
   "cell_type": "code",
   "execution_count": 14,
   "id": "cee917d6",
   "metadata": {},
   "outputs": [
    {
     "name": "stdout",
     "output_type": "stream",
     "text": [
      "35\n",
      "3\n",
      "345\n",
      "345\n",
      "012345\n",
      "024\n",
      "35\n"
     ]
    }
   ],
   "source": [
    "#印出的不同方式\n",
    "#印出S中由3~6(不含)的子字串，並且每次都向右跳2格取\n",
    "#[起點:終點(不含):每次跳幾格]\n",
    "print(S[3:6:2])\n",
    "print(S[3])\n",
    "print(S[3:6]) #從3~6(3,4,5)不包含最尾數6\n",
    "print(S[3:])  #取到最後\n",
    "print(S[:6])  #從頭取到不包含最尾數6\n",
    "print(S[:6:2])\n",
    "print(S[3::2])"
   ]
  },
  {
   "cell_type": "code",
   "execution_count": 15,
   "id": "a8da99e9",
   "metadata": {},
   "outputs": [
    {
     "name": "stdout",
     "output_type": "stream",
     "text": [
      "5\n",
      "4\n",
      "53\n"
     ]
    }
   ],
   "source": [
    "#倒著顯示(最後一個數是-1)\n",
    "print(S[-1])\n",
    "print(S[-2])\n",
    "print(S[-1:-5:-2])"
   ]
  },
  {
   "cell_type": "markdown",
   "id": "f0652c76",
   "metadata": {},
   "source": [
    "6. Nonetype"
   ]
  },
  {
   "cell_type": "code",
   "execution_count": 16,
   "id": "345972c9",
   "metadata": {},
   "outputs": [
    {
     "name": "stdout",
     "output_type": "stream",
     "text": [
      "N:<class 'NoneType'>data type, value=None\n"
     ]
    }
   ],
   "source": [
    "#用來測試是否執行成功,和布林值不同\n",
    "N=None\n",
    "print(f'N:{type(N)}data type, value={N}')"
   ]
  },
  {
   "cell_type": "markdown",
   "id": "f6e8cabd",
   "metadata": {},
   "source": [
    "7. 多變數宣告"
   ]
  },
  {
   "cell_type": "code",
   "execution_count": 17,
   "id": "f96c83e7",
   "metadata": {},
   "outputs": [
    {
     "name": "stdout",
     "output_type": "stream",
     "text": [
      "3 3 3 3 five 6 7j\n"
     ]
    }
   ],
   "source": [
    "#多變數宣告為同一值\n",
    "a=b=c=d=3\n",
    "#不可表示為a=b=3=c=d\n",
    "\n",
    "#多變數宣告為不同值\n",
    "e, f, g ='five', 6, 0+7j\n",
    "\n",
    "print(a,b,c,d,e,f,g)"
   ]
  },
  {
   "cell_type": "markdown",
   "id": "9dba2099",
   "metadata": {},
   "source": [
    "## 型別轉換"
   ]
  },
  {
   "cell_type": "code",
   "execution_count": 19,
   "id": "f4278358",
   "metadata": {},
   "outputs": [
    {
     "name": "stdout",
     "output_type": "stream",
     "text": [
      "Int_S:<class 'int'>data type, value=123456\n",
      "Float_S:<class 'float'>data type, value=123456.0\n",
      "Complex_S:<class 'complex'>data type, value=(123456+0j)\n"
     ]
    }
   ],
   "source": [
    "S=\"123456\"\n",
    "Int_S=int(S)\n",
    "Float_S=float(S)\n",
    "Complex_S=complex(S)\n",
    "\n",
    "print(f'Int_S:{type(Int_S)}data type, value={Int_S}')\n",
    "print(f'Float_S:{type(Float_S)}data type, value={Float_S}')\n",
    "print(f'Complex_S:{type(Complex_S)}data type, value={Complex_S}')"
   ]
  },
  {
   "cell_type": "markdown",
   "id": "7ca5ad0b",
   "metadata": {},
   "source": [
    "## 進位轉換"
   ]
  },
  {
   "cell_type": "code",
   "execution_count": 22,
   "id": "feaea835",
   "metadata": {},
   "outputs": [
    {
     "name": "stdout",
     "output_type": "stream",
     "text": [
      "str_S:<class 'str'>data type, value=123456\n",
      "bin_S:<class 'str'>data type, value=0b11110001001000000\n",
      "oct_S:<class 'str'>data type, value=0o361100\n",
      "hex_S:<class 'str'>data type, value=0x1e240\n"
     ]
    }
   ],
   "source": [
    "A=123456\n",
    "\n",
    "#10進位字串\n",
    "str_S=str(A)\n",
    "#2進位字串\n",
    "bin_S=bin(A)\n",
    "#8進位字串\n",
    "oct_S=oct(A)\n",
    "#16進位字串\n",
    "hex_S=hex(A)\n",
    "\n",
    "print(f'str_S:{type(str_S)}data type, value={str_S}')\n",
    "print(f'bin_S:{type(bin_S)}data type, value={bin_S}')\n",
    "print(f'oct_S:{type(oct_S)}data type, value={oct_S}')\n",
    "print(f'hex_S:{type(hex_S)}data type, value={hex_S}')"
   ]
  },
  {
   "cell_type": "markdown",
   "id": "4c231099",
   "metadata": {},
   "source": [
    "## 盡量不要使用的字"
   ]
  },
  {
   "cell_type": "markdown",
   "id": "9d47566a",
   "metadata": {},
   "source": [
    "False,  class,    finally,  is,       return,"
   ]
  },
  {
   "cell_type": "markdown",
   "id": "6f61ff32",
   "metadata": {},
   "source": [
    "None,   continue, for,      lambda,   try,"
   ]
  },
  {
   "cell_type": "markdown",
   "id": "0d5b5e70",
   "metadata": {},
   "source": [
    "True,   def,      from,     nonlocal, while,"
   ]
  },
  {
   "cell_type": "markdown",
   "id": "00a3c007",
   "metadata": {},
   "source": [
    "and,    del,      global,   not,      with,"
   ]
  },
  {
   "cell_type": "markdown",
   "id": "f2b0bfae",
   "metadata": {},
   "source": [
    "as,     elif,     if,       or,       yield, "
   ]
  },
  {
   "cell_type": "markdown",
   "id": "10216e53",
   "metadata": {},
   "source": [
    "assert, else,     import,   pass,"
   ]
  },
  {
   "cell_type": "markdown",
   "id": "702f2d83",
   "metadata": {},
   "source": [
    "break,  expect,   in,       raise"
   ]
  }
 ],
 "metadata": {
  "kernelspec": {
   "display_name": "Python 3",
   "language": "python",
   "name": "python3"
  },
  "language_info": {
   "codemirror_mode": {
    "name": "ipython",
    "version": 3
   },
   "file_extension": ".py",
   "mimetype": "text/x-python",
   "name": "python",
   "nbconvert_exporter": "python",
   "pygments_lexer": "ipython3",
   "version": "3.8.8"
  }
 },
 "nbformat": 4,
 "nbformat_minor": 5
}
