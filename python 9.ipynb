{
 "cells": [
  {
   "cell_type": "markdown",
   "id": "03935938",
   "metadata": {},
   "source": [
    "# For-loop"
   ]
  },
  {
   "cell_type": "markdown",
   "id": "54ea8f72",
   "metadata": {},
   "source": [
    "## Range迭代"
   ]
  },
  {
   "cell_type": "raw",
   "id": "6ebefbed",
   "metadata": {},
   "source": [
    "for xxx in range():\n",
    "    (do something)"
   ]
  },
  {
   "cell_type": "code",
   "execution_count": 3,
   "id": "26da38c7",
   "metadata": {},
   "outputs": [
    {
     "name": "stdout",
     "output_type": "stream",
     "text": [
      "0 1 2 3 4 5 6 7 8 9 "
     ]
    }
   ],
   "source": [
    "#for(int i=0;i<10;i+=1)\n",
    "for i in range(10):\n",
    "    print(i,end=\" \")"
   ]
  },
  {
   "cell_type": "code",
   "execution_count": 4,
   "id": "df6632b7",
   "metadata": {},
   "outputs": [
    {
     "name": "stdout",
     "output_type": "stream",
     "text": [
      "-3 -2 -1 0 1 2 3 4 5 6 7 8 9 "
     ]
    }
   ],
   "source": [
    "#for(int i=-3;i<10;i+=1)\n",
    "for i in range(-3,10):\n",
    "    print(i,end=\" \")"
   ]
  },
  {
   "cell_type": "code",
   "execution_count": 6,
   "id": "bf8c67b4",
   "metadata": {},
   "outputs": [
    {
     "name": "stdout",
     "output_type": "stream",
     "text": [
      "-3 -1 1 3 5 7 9 "
     ]
    }
   ],
   "source": [
    "#for(int i=-3;i<10;i+=2)\n",
    "for i in range(-3,10,2):\n",
    "    print(i,end=\" \")"
   ]
  },
  {
   "cell_type": "code",
   "execution_count": 7,
   "id": "79a6294c",
   "metadata": {},
   "outputs": [
    {
     "name": "stdout",
     "output_type": "stream",
     "text": [
      "-1 -3 -5 -7 -9 "
     ]
    }
   ],
   "source": [
    "#for(int i=-1;i>-10;i-=2)\n",
    "for i in range(-1,-10,-2):\n",
    "    print(i,end=\" \")"
   ]
  },
  {
   "cell_type": "markdown",
   "id": "71985a88",
   "metadata": {},
   "source": [
    "## Container迭代"
   ]
  },
  {
   "cell_type": "raw",
   "id": "c7c22f80",
   "metadata": {},
   "source": [
    "List迭代"
   ]
  },
  {
   "cell_type": "code",
   "execution_count": 8,
   "id": "db5976b7",
   "metadata": {},
   "outputs": [
    {
     "name": "stdout",
     "output_type": "stream",
     "text": [
      "a b c d e \n",
      "a b c \n",
      "e d c b a "
     ]
    }
   ],
   "source": [
    "L=['a','b','c','d','e']\n",
    "for element in L:\n",
    "    print(element,end=\" \")\n",
    "print()\n",
    "for element in L[:3]:\n",
    "    print(element,end=\" \")\n",
    "print()\n",
    "for element in reversed(L):\n",
    "    print(element,end=\" \")"
   ]
  },
  {
   "cell_type": "raw",
   "id": "defa1ed2",
   "metadata": {},
   "source": [
    "Touple迭代"
   ]
  },
  {
   "cell_type": "code",
   "execution_count": null,
   "id": "a799c409",
   "metadata": {},
   "outputs": [],
   "source": [
    "T=('a','b','c','d','e')\n",
    "for element in T:\n",
    "    print(element,end=\" \")\n",
    "print()\n",
    "for element in T[:3]:\n",
    "    print(element,end=\" \")\n",
    "print()\n",
    "for element in reversed(T):\n",
    "    print(element,end=\" \")"
   ]
  },
  {
   "cell_type": "raw",
   "id": "a4ad63f3",
   "metadata": {},
   "source": [
    "Set迭代"
   ]
  },
  {
   "cell_type": "code",
   "execution_count": 9,
   "id": "200284a3",
   "metadata": {},
   "outputs": [
    {
     "name": "stdout",
     "output_type": "stream",
     "text": [
      "c b d a e "
     ]
    }
   ],
   "source": [
    "S={'a','b','c','d','e'}\n",
    "\n",
    "for element in S:\n",
    "    print(element,end=\" \")"
   ]
  },
  {
   "cell_type": "raw",
   "id": "fb2fe0f7",
   "metadata": {},
   "source": [
    "Dictionary迭代"
   ]
  },
  {
   "cell_type": "code",
   "execution_count": 11,
   "id": "b0fe8351",
   "metadata": {},
   "outputs": [
    {
     "name": "stdout",
     "output_type": "stream",
     "text": [
      "a b c d e \n",
      "1 2 3 4 5 \n",
      "(a,1) (b,2) (c,3) (d,4) (e,5) "
     ]
    }
   ],
   "source": [
    "D={'a':1,'b':2,'c':3,'d':4,'e':5}\n",
    "\n",
    "for key in D.keys():\n",
    "    print(key,end=\" \")\n",
    "print()\n",
    "for value in D.values():\n",
    "    print(value,end=\" \")\n",
    "print()\n",
    "for key,value in D.items():\n",
    "    print(f'({key},{value})',end=\" \")"
   ]
  },
  {
   "cell_type": "markdown",
   "id": "74fe69e0",
   "metadata": {},
   "source": [
    "## enumerate迭代"
   ]
  },
  {
   "cell_type": "code",
   "execution_count": 13,
   "id": "aa78d0e1",
   "metadata": {},
   "outputs": [
    {
     "name": "stdout",
     "output_type": "stream",
     "text": [
      "(0,a) (1,b) (2,c) (3,d) (4,e) \n",
      "(0,a) (1,b) (2,c) (3,d) (4,e) "
     ]
    }
   ],
   "source": [
    "for index,element in enumerate(L):\n",
    "    print(f'({index},{element})',end=\" \")\n",
    "print()\n",
    "for index,element in enumerate(L):\n",
    "          print(f'({index},{element})',end=\" \")"
   ]
  },
  {
   "cell_type": "markdown",
   "id": "1ec41d36",
   "metadata": {},
   "source": [
    "## Range of container "
   ]
  },
  {
   "cell_type": "code",
   "execution_count": 14,
   "id": "30641ac1",
   "metadata": {},
   "outputs": [
    {
     "name": "stdout",
     "output_type": "stream",
     "text": [
      "0 a 1 b 2 c 3 d 4 e \n",
      "0 a 1 b 2 c 3 d 4 e "
     ]
    }
   ],
   "source": [
    "L=['a','b','c','d','e']\n",
    "for index,element in enumerate(L):\n",
    "    print(index,element,end=\" \")\n",
    "print()\n",
    "\n",
    "for i in range(len(L)):\n",
    "    print(i,L[i],end=\" \")"
   ]
  },
  {
   "cell_type": "markdown",
   "id": "4b5a8302",
   "metadata": {},
   "source": [
    "## Zip迭代"
   ]
  },
  {
   "cell_type": "code",
   "execution_count": 31,
   "id": "23371f4a",
   "metadata": {},
   "outputs": [
    {
     "name": "stdout",
     "output_type": "stream",
     "text": [
      "(Apple,40) (Banana,15) (Carrot,20) (Donut,45) "
     ]
    }
   ],
   "source": [
    "L1=['Apple','Banana','Carrot','Donut']\n",
    "L2=['40','15','20','45']\n",
    "for product,price in zip(L1,L2):\n",
    "    print(f'({product},{price})',end=\" \")"
   ]
  },
  {
   "cell_type": "markdown",
   "id": "28357819",
   "metadata": {},
   "source": [
    "##  neast loop"
   ]
  },
  {
   "cell_type": "code",
   "execution_count": 27,
   "id": "ec4c5562",
   "metadata": {},
   "outputs": [
    {
     "name": "stdout",
     "output_type": "stream",
     "text": [
      "1*1=1\n",
      "1*2=2\n",
      "1*3=3\n",
      "1*4=4\n",
      "1*5=5\n",
      "1*6=6\n",
      "1*7=7\n",
      "1*8=8\n",
      "1*9=9\n",
      "2*1=2\n",
      "2*2=4\n",
      "2*3=6\n",
      "2*4=8\n",
      "2*5=10\n",
      "2*6=12\n",
      "2*7=14\n",
      "2*8=16\n",
      "2*9=18\n",
      "3*1=3\n",
      "3*2=6\n",
      "3*3=9\n",
      "3*4=12\n",
      "3*5=15\n",
      "3*6=18\n",
      "3*7=21\n",
      "3*8=24\n",
      "3*9=27\n",
      "4*1=4\n",
      "4*2=8\n",
      "4*3=12\n",
      "4*4=16\n",
      "4*5=20\n",
      "4*6=24\n",
      "4*7=28\n",
      "4*8=32\n",
      "4*9=36\n",
      "5*1=5\n",
      "5*2=10\n",
      "5*3=15\n",
      "5*4=20\n",
      "5*5=25\n",
      "5*6=30\n",
      "5*7=35\n",
      "5*8=40\n",
      "5*9=45\n",
      "6*1=6\n",
      "6*2=12\n",
      "6*3=18\n",
      "6*4=24\n",
      "6*5=30\n",
      "6*6=36\n",
      "6*7=42\n",
      "6*8=48\n",
      "6*9=54\n",
      "7*1=7\n",
      "7*2=14\n",
      "7*3=21\n",
      "7*4=28\n",
      "7*5=35\n",
      "7*6=42\n",
      "7*7=49\n",
      "7*8=56\n",
      "7*9=63\n",
      "8*1=8\n",
      "8*2=16\n",
      "8*3=24\n",
      "8*4=32\n",
      "8*5=40\n",
      "8*6=48\n",
      "8*7=56\n",
      "8*8=64\n",
      "8*9=72\n",
      "9*1=9\n",
      "9*2=18\n",
      "9*3=27\n",
      "9*4=36\n",
      "9*5=45\n",
      "9*6=54\n",
      "9*7=63\n",
      "9*8=72\n",
      "9*9=81\n"
     ]
    }
   ],
   "source": [
    "for i in range(1,10):\n",
    "    for j in range(1,10):\n",
    "         print(f'{i}*{j}={i*j}')"
   ]
  }
 ],
 "metadata": {
  "kernelspec": {
   "display_name": "Python 3",
   "language": "python",
   "name": "python3"
  },
  "language_info": {
   "codemirror_mode": {
    "name": "ipython",
    "version": 3
   },
   "file_extension": ".py",
   "mimetype": "text/x-python",
   "name": "python",
   "nbconvert_exporter": "python",
   "pygments_lexer": "ipython3",
   "version": "3.8.8"
  }
 },
 "nbformat": 4,
 "nbformat_minor": 5
}
