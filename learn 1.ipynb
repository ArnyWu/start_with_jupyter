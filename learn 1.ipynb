{
 "cells": [
  {
   "cell_type": "markdown",
   "id": "358e910b",
   "metadata": {},
   "source": [
    "output"
   ]
  },
  {
   "cell_type": "code",
   "execution_count": 2,
   "id": "301001b2",
   "metadata": {},
   "outputs": [
    {
     "name": "stdout",
     "output_type": "stream",
     "text": [
      "Hello world\n",
      "Hello world\n",
      "(｡◕∀◕｡)\n",
      "ヽ(́◕◞౪◟◕‵)ﾉ\n",
      "｡:.ﾟヽ(*´∀`)ﾉﾟ.:｡\n"
     ]
    }
   ],
   "source": [
    "print('Hello world')\n",
    "print(\"Hello world\")\n",
    "print('''(｡◕∀◕｡)\n",
    "ヽ(́◕◞౪◟◕‵)ﾉ\n",
    "｡:.ﾟヽ(*´∀`)ﾉﾟ.:｡''')"
   ]
  },
  {
   "cell_type": "code",
   "execution_count": 4,
   "id": "7af3e1e4",
   "metadata": {},
   "outputs": [
    {
     "name": "stdout",
     "output_type": "stream",
     "text": [
      "hello world\n",
      "I am 18 years old\n"
     ]
    }
   ],
   "source": [
    "#逗號是分隔字串，顯示效果是空格\n",
    "print('hello','world')\n",
    "print('I am',18,'years old')"
   ]
  },
  {
   "cell_type": "code",
   "execution_count": 7,
   "id": "76ac9966",
   "metadata": {},
   "outputs": [
    {
     "name": "stdout",
     "output_type": "stream",
     "text": [
      "helloworld\n"
     ]
    }
   ],
   "source": [
    "#讓結尾印出不換行\n",
    "print('hello',end='')\n",
    "print('world')"
   ]
  },
  {
   "cell_type": "code",
   "execution_count": 12,
   "id": "ab0b895b",
   "metadata": {},
   "outputs": [
    {
     "name": "stdout",
     "output_type": "stream",
     "text": [
      "An apple cost 50 dollars.\n",
      "An apple cost 50 dollars and a banana cost 15.\n"
     ]
    }
   ],
   "source": [
    "#way one:format code:整數 %d,浮點數 %f,字串 %s\n",
    "aPrice=50\n",
    "print(\"An apple cost %d dollars.\" %aPrice)\n",
    "bPrice=15\n",
    "print(\"An apple cost %d dollars and a banana cost %d.\" %(aPrice,bPrice))"
   ]
  },
  {
   "cell_type": "code",
   "execution_count": 13,
   "id": "3923cdc6",
   "metadata": {},
   "outputs": [
    {
     "name": "stdout",
     "output_type": "stream",
     "text": [
      "An apple cost 50 dollars and a banana cost 15.\n"
     ]
    }
   ],
   "source": [
    "#way two:.format()\n",
    "print(\"An apple cost {} dollars and a banana cost {}.\".format(aPrice,bPrice))"
   ]
  },
  {
   "cell_type": "code",
   "execution_count": 14,
   "id": "1f3b9568",
   "metadata": {},
   "outputs": [
    {
     "name": "stdout",
     "output_type": "stream",
     "text": [
      "An apple cost 50 dollars and a banana cost 15.\n"
     ]
    }
   ],
   "source": [
    "#way three:f-string\n",
    "print(f\"An apple cost {aPrice} dollars and a banana cost {bPrice}.\")"
   ]
  },
  {
   "cell_type": "markdown",
   "id": "6c9e1450",
   "metadata": {},
   "source": [
    "input"
   ]
  },
  {
   "cell_type": "code",
   "execution_count": 20,
   "id": "8142a914",
   "metadata": {},
   "outputs": [
    {
     "name": "stdout",
     "output_type": "stream",
     "text": [
      "請輸入您的名字:Arny\n",
      "請輸入您的性別:girl\n",
      "請輸入您的年齡:19\n"
     ]
    }
   ],
   "source": [
    "name=input(\"請輸入您的名字:\")\n",
    "sex=input(\"請輸入您的性別:\")\n",
    "age=input('請輸入您的年齡:')"
   ]
  },
  {
   "cell_type": "markdown",
   "id": "af03513a",
   "metadata": {},
   "source": [
    "hw 輸出包含這些資料的句子"
   ]
  },
  {
   "cell_type": "code",
   "execution_count": 18,
   "id": "3a5b799f",
   "metadata": {},
   "outputs": [
    {
     "name": "stdout",
     "output_type": "stream",
     "text": [
      "My name is arny ,19 years old, gender is girl.\n"
     ]
    }
   ],
   "source": [
    "print(f'My name is {name} ,{age} years old, gender is {sex}.')"
   ]
  },
  {
   "cell_type": "code",
   "execution_count": 23,
   "id": "0ef68e2b",
   "metadata": {},
   "outputs": [
    {
     "name": "stdout",
     "output_type": "stream",
     "text": [
      "My name is Arny ,19 years old, gender is girl.\n"
     ]
    }
   ],
   "source": [
    "print('My name is %s ,%s years old, gender is %s.'%(name,age,sex))"
   ]
  }
 ],
 "metadata": {
  "kernelspec": {
   "display_name": "Python 3",
   "language": "python",
   "name": "python3"
  },
  "language_info": {
   "codemirror_mode": {
    "name": "ipython",
    "version": 3
   },
   "file_extension": ".py",
   "mimetype": "text/x-python",
   "name": "python",
   "nbconvert_exporter": "python",
   "pygments_lexer": "ipython3",
   "version": "3.8.8"
  }
 },
 "nbformat": 4,
 "nbformat_minor": 5
}
